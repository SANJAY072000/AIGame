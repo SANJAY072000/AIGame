{
 "cells": [
  {
   "cell_type": "code",
   "execution_count": 1,
   "metadata": {},
   "outputs": [],
   "source": [
    "# import required libraries"
   ]
  },
  {
   "cell_type": "code",
   "execution_count": 2,
   "metadata": {},
   "outputs": [
    {
     "name": "stderr",
     "output_type": "stream",
     "text": [
      "Using TensorFlow backend.\n"
     ]
    }
   ],
   "source": [
    "from keras.models import load_model\n",
    "import cv2\n",
    "import numpy as np\n",
    "import sys"
   ]
  },
  {
   "cell_type": "code",
   "execution_count": 10,
   "metadata": {},
   "outputs": [
    {
     "name": "stdout",
     "output_type": "stream",
     "text": [
      "Predicted: none\n"
     ]
    }
   ],
   "source": [
    "filepath = sys.argv[1]\n",
    "REV_CLASS_MAP = {\n",
    "    0: \"rock\",\n",
    "    1: \"paper\",\n",
    "    2: \"scissors\",\n",
    "    3: \"none\"\n",
    "}\n",
    "\n",
    "\n",
    "def mapper(val):\n",
    "    return REV_CLASS_MAP[val]\n",
    "\n",
    "\n",
    "model = load_model(\"rock-paper-scissors-model.h5\")\n",
    "\n",
    "# prepare the image\n",
    "img = cv2.imread(filepath)\n",
    "img = cv2.cvtColor(img, cv2.COLOR_BGR2RGB)\n",
    "img = cv2.resize(img, (227, 227))\n",
    "\n",
    "# predict the move made\n",
    "pred = model.predict(np.array([img]))\n",
    "move_code = np.argmax(pred[0])\n",
    "move_name = mapper(move_code)\n",
    "\n",
    "print(\"Predicted: {}\".format(move_name))"
   ]
  },
  {
   "cell_type": "code",
   "execution_count": null,
   "metadata": {},
   "outputs": [],
   "source": []
  }
 ],
 "metadata": {
  "kernelspec": {
   "display_name": "Python 3",
   "language": "python",
   "name": "python3"
  },
  "language_info": {
   "codemirror_mode": {
    "name": "ipython",
    "version": 3
   },
   "file_extension": ".py",
   "mimetype": "text/x-python",
   "name": "python",
   "nbconvert_exporter": "python",
   "pygments_lexer": "ipython3",
   "version": "3.7.7"
  }
 },
 "nbformat": 4,
 "nbformat_minor": 4
}
